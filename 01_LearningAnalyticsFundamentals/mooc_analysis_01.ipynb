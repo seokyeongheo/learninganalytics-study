{
 "cells": [
  {
   "cell_type": "markdown",
   "metadata": {},
   "source": [
    "# SETUP"
   ]
  },
  {
   "cell_type": "code",
   "execution_count": 1,
   "metadata": {},
   "outputs": [],
   "source": [
    "import pandas as pd\n",
    "import numpy as np\n",
    "\n",
    "%matplotlib inline"
   ]
  },
  {
   "cell_type": "code",
   "execution_count": 4,
   "metadata": {},
   "outputs": [
    {
     "data": {
      "text/html": [
       "<div>\n",
       "<style scoped>\n",
       "    .dataframe tbody tr th:only-of-type {\n",
       "        vertical-align: middle;\n",
       "    }\n",
       "\n",
       "    .dataframe tbody tr th {\n",
       "        vertical-align: top;\n",
       "    }\n",
       "\n",
       "    .dataframe thead th {\n",
       "        text-align: right;\n",
       "    }\n",
       "</style>\n",
       "<table border=\"1\" class=\"dataframe\">\n",
       "  <thead>\n",
       "    <tr style=\"text-align: right;\">\n",
       "      <th></th>\n",
       "      <th>code_module</th>\n",
       "      <th>code_presentation</th>\n",
       "      <th>id_student</th>\n",
       "      <th>gender</th>\n",
       "      <th>region</th>\n",
       "      <th>highest_education</th>\n",
       "      <th>imd_band</th>\n",
       "      <th>age_band</th>\n",
       "      <th>num_of_prev_attempts</th>\n",
       "      <th>studied_credits</th>\n",
       "      <th>disability</th>\n",
       "      <th>final_result</th>\n",
       "    </tr>\n",
       "  </thead>\n",
       "  <tbody>\n",
       "    <tr>\n",
       "      <th>32588</th>\n",
       "      <td>GGG</td>\n",
       "      <td>2014J</td>\n",
       "      <td>2640965</td>\n",
       "      <td>F</td>\n",
       "      <td>Wales</td>\n",
       "      <td>Lower Than A Level</td>\n",
       "      <td>10-20</td>\n",
       "      <td>0-35</td>\n",
       "      <td>0</td>\n",
       "      <td>30</td>\n",
       "      <td>N</td>\n",
       "      <td>Fail</td>\n",
       "    </tr>\n",
       "    <tr>\n",
       "      <th>32589</th>\n",
       "      <td>GGG</td>\n",
       "      <td>2014J</td>\n",
       "      <td>2645731</td>\n",
       "      <td>F</td>\n",
       "      <td>East Anglian Region</td>\n",
       "      <td>Lower Than A Level</td>\n",
       "      <td>40-50%</td>\n",
       "      <td>35-55</td>\n",
       "      <td>0</td>\n",
       "      <td>30</td>\n",
       "      <td>N</td>\n",
       "      <td>Distinction</td>\n",
       "    </tr>\n",
       "    <tr>\n",
       "      <th>32590</th>\n",
       "      <td>GGG</td>\n",
       "      <td>2014J</td>\n",
       "      <td>2648187</td>\n",
       "      <td>F</td>\n",
       "      <td>South Region</td>\n",
       "      <td>A Level or Equivalent</td>\n",
       "      <td>20-30%</td>\n",
       "      <td>0-35</td>\n",
       "      <td>0</td>\n",
       "      <td>30</td>\n",
       "      <td>Y</td>\n",
       "      <td>Pass</td>\n",
       "    </tr>\n",
       "    <tr>\n",
       "      <th>32591</th>\n",
       "      <td>GGG</td>\n",
       "      <td>2014J</td>\n",
       "      <td>2679821</td>\n",
       "      <td>F</td>\n",
       "      <td>South East Region</td>\n",
       "      <td>Lower Than A Level</td>\n",
       "      <td>90-100%</td>\n",
       "      <td>35-55</td>\n",
       "      <td>0</td>\n",
       "      <td>30</td>\n",
       "      <td>N</td>\n",
       "      <td>Withdrawn</td>\n",
       "    </tr>\n",
       "    <tr>\n",
       "      <th>32592</th>\n",
       "      <td>GGG</td>\n",
       "      <td>2014J</td>\n",
       "      <td>2684003</td>\n",
       "      <td>F</td>\n",
       "      <td>Yorkshire Region</td>\n",
       "      <td>HE Qualification</td>\n",
       "      <td>50-60%</td>\n",
       "      <td>35-55</td>\n",
       "      <td>0</td>\n",
       "      <td>30</td>\n",
       "      <td>N</td>\n",
       "      <td>Distinction</td>\n",
       "    </tr>\n",
       "  </tbody>\n",
       "</table>\n",
       "</div>"
      ],
      "text/plain": [
       "      code_module code_presentation  id_student gender               region  \\\n",
       "32588         GGG             2014J     2640965      F                Wales   \n",
       "32589         GGG             2014J     2645731      F  East Anglian Region   \n",
       "32590         GGG             2014J     2648187      F         South Region   \n",
       "32591         GGG             2014J     2679821      F    South East Region   \n",
       "32592         GGG             2014J     2684003      F     Yorkshire Region   \n",
       "\n",
       "           highest_education imd_band age_band  num_of_prev_attempts  \\\n",
       "32588     Lower Than A Level    10-20     0-35                     0   \n",
       "32589     Lower Than A Level   40-50%    35-55                     0   \n",
       "32590  A Level or Equivalent   20-30%     0-35                     0   \n",
       "32591     Lower Than A Level  90-100%    35-55                     0   \n",
       "32592       HE Qualification   50-60%    35-55                     0   \n",
       "\n",
       "       studied_credits disability final_result  \n",
       "32588               30          N         Fail  \n",
       "32589               30          N  Distinction  \n",
       "32590               30          Y         Pass  \n",
       "32591               30          N    Withdrawn  \n",
       "32592               30          N  Distinction  "
      ]
     },
     "execution_count": 4,
     "metadata": {},
     "output_type": "execute_result"
    }
   ],
   "source": [
    "file = '/Users/quartz/Google Drive/learning_analytics/learning_analytics_fundamentals/studentInfo.csv'\n",
    "D1 = pd.read_csv(file)\n",
    "D1.tail()"
   ]
  },
  {
   "cell_type": "code",
   "execution_count": 5,
   "metadata": {},
   "outputs": [
    {
     "data": {
      "text/plain": [
       "code_module             object\n",
       "code_presentation       object\n",
       "id_student               int64\n",
       "gender                  object\n",
       "region                  object\n",
       "highest_education       object\n",
       "imd_band                object\n",
       "age_band                object\n",
       "num_of_prev_attempts     int64\n",
       "studied_credits          int64\n",
       "disability              object\n",
       "final_result            object\n",
       "dtype: object"
      ]
     },
     "execution_count": 5,
     "metadata": {},
     "output_type": "execute_result"
    }
   ],
   "source": [
    "# data type : int64 - id_student, num_of_prev_attempts, studied_credits\n",
    "\n",
    "D1.dtypes"
   ]
  },
  {
   "cell_type": "code",
   "execution_count": 6,
   "metadata": {},
   "outputs": [
    {
     "data": {
      "text/plain": [
       "code_module                0\n",
       "code_presentation          0\n",
       "id_student                 0\n",
       "gender                     0\n",
       "region                     0\n",
       "highest_education          0\n",
       "imd_band                1111\n",
       "age_band                   0\n",
       "num_of_prev_attempts       0\n",
       "studied_credits            0\n",
       "disability                 0\n",
       "final_result               0\n",
       "dtype: int64"
      ]
     },
     "execution_count": 6,
     "metadata": {},
     "output_type": "execute_result"
    }
   ],
   "source": [
    "# Nan Value\n",
    "\n",
    "D1.isna().sum()"
   ]
  },
  {
   "cell_type": "code",
   "execution_count": 7,
   "metadata": {},
   "outputs": [
    {
     "name": "stdout",
     "output_type": "stream",
     "text": [
      "The number of students is 28785\n"
     ]
    }
   ],
   "source": [
    "# How many student?\n",
    "\n",
    "n = len(np.unique(D1.id_student))\n",
    "print(\"The number of students is %d\" % (n))"
   ]
  },
  {
   "cell_type": "code",
   "execution_count": 8,
   "metadata": {},
   "outputs": [
    {
     "data": {
      "text/plain": [
       "M    17875\n",
       "F    14718\n",
       "Name: gender, dtype: int64"
      ]
     },
     "execution_count": 8,
     "metadata": {},
     "output_type": "execute_result"
    }
   ],
   "source": [
    "# Gender ratio\n",
    "\n",
    "D1.gender.value_counts()"
   ]
  },
  {
   "cell_type": "code",
   "execution_count": 9,
   "metadata": {},
   "outputs": [
    {
     "data": {
      "text/plain": [
       "Scotland                3446\n",
       "East Anglian Region     3340\n",
       "London Region           3216\n",
       "South Region            3092\n",
       "North Western Region    2906\n",
       "West Midlands Region    2582\n",
       "South West Region       2436\n",
       "East Midlands Region    2365\n",
       "South East Region       2111\n",
       "Wales                   2086\n",
       "Yorkshire Region        2006\n",
       "North Region            1823\n",
       "Ireland                 1184\n",
       "Name: region, dtype: int64"
      ]
     },
     "execution_count": 9,
     "metadata": {},
     "output_type": "execute_result"
    }
   ],
   "source": [
    "# region\n",
    "\n",
    "D1.region.value_counts()"
   ]
  },
  {
   "cell_type": "code",
   "execution_count": 10,
   "metadata": {},
   "outputs": [
    {
     "data": {
      "text/plain": [
       "A Level or Equivalent          14045\n",
       "Lower Than A Level             13158\n",
       "HE Qualification                4730\n",
       "No Formal quals                  347\n",
       "Post Graduate Qualification      313\n",
       "Name: highest_education, dtype: int64"
      ]
     },
     "execution_count": 10,
     "metadata": {},
     "output_type": "execute_result"
    }
   ],
   "source": [
    "# highest education\n",
    "\n",
    "D1.highest_education.value_counts()"
   ]
  },
  {
   "cell_type": "code",
   "execution_count": 11,
   "metadata": {},
   "outputs": [
    {
     "data": {
      "text/plain": [
       "20-30%     3654\n",
       "30-40%     3539\n",
       "10-20      3516\n",
       "0-10%      3311\n",
       "40-50%     3256\n",
       "50-60%     3124\n",
       "60-70%     2905\n",
       "70-80%     2879\n",
       "80-90%     2762\n",
       "90-100%    2536\n",
       "Name: imd_band, dtype: int64"
      ]
     },
     "execution_count": 11,
     "metadata": {},
     "output_type": "execute_result"
    }
   ],
   "source": [
    "# IMD band\n",
    "\n",
    "D1.imd_band.value_counts()"
   ]
  },
  {
   "cell_type": "code",
   "execution_count": 12,
   "metadata": {},
   "outputs": [
    {
     "data": {
      "text/plain": [
       "0-35     22944\n",
       "35-55     9433\n",
       "55<=       216\n",
       "Name: age_band, dtype: int64"
      ]
     },
     "execution_count": 12,
     "metadata": {},
     "output_type": "execute_result"
    }
   ],
   "source": [
    "# age band\n",
    "\n",
    "D1.age_band.value_counts()"
   ]
  },
  {
   "cell_type": "code",
   "execution_count": 13,
   "metadata": {},
   "outputs": [
    {
     "data": {
      "text/plain": [
       "2014J    11260\n",
       "2013J     8845\n",
       "2014B     7804\n",
       "2013B     4684\n",
       "Name: code_presentation, dtype: int64"
      ]
     },
     "execution_count": 13,
     "metadata": {},
     "output_type": "execute_result"
    }
   ],
   "source": [
    "# How many presentation\n",
    "\n",
    "D1.code_presentation.value_counts()"
   ]
  },
  {
   "cell_type": "code",
   "execution_count": 14,
   "metadata": {},
   "outputs": [
    {
     "data": {
      "text/plain": [
       "0    28421\n",
       "1     3299\n",
       "2      675\n",
       "3      142\n",
       "4       39\n",
       "5       13\n",
       "6        4\n",
       "Name: num_of_prev_attempts, dtype: int64"
      ]
     },
     "execution_count": 14,
     "metadata": {},
     "output_type": "execute_result"
    }
   ],
   "source": [
    "# num of prev attempts\n",
    "\n",
    "D1.num_of_prev_attempts.value_counts()"
   ]
  },
  {
   "cell_type": "code",
   "execution_count": 15,
   "metadata": {},
   "outputs": [
    {
     "data": {
      "text/plain": [
       "60     16751\n",
       "120     6328\n",
       "30      3749\n",
       "90      3144\n",
       "180      830\n",
       "150      769\n",
       "240      220\n",
       "210      169\n",
       "75       108\n",
       "70        96\n",
       "270       45\n",
       "130       38\n",
       "45        36\n",
       "135       35\n",
       "100       30\n",
       "300       29\n",
       "80        26\n",
       "40        22\n",
       "160       14\n",
       "105       13\n",
       "330       12\n",
       "110       11\n",
       "195       11\n",
       "165        9\n",
       "220        9\n",
       "50         7\n",
       "145        7\n",
       "170        6\n",
       "190        6\n",
       "360        6\n",
       "       ...  \n",
       "140        5\n",
       "85         4\n",
       "200        3\n",
       "95         3\n",
       "55         3\n",
       "225        3\n",
       "250        3\n",
       "280        3\n",
       "205        2\n",
       "310        2\n",
       "400        2\n",
       "430        1\n",
       "480        1\n",
       "370        1\n",
       "175        1\n",
       "65         1\n",
       "235        1\n",
       "355        1\n",
       "420        1\n",
       "325        1\n",
       "155        1\n",
       "540        1\n",
       "390        1\n",
       "630        1\n",
       "215        1\n",
       "255        1\n",
       "345        1\n",
       "585        1\n",
       "315        1\n",
       "655        1\n",
       "Name: studied_credits, Length: 61, dtype: int64"
      ]
     },
     "execution_count": 15,
     "metadata": {},
     "output_type": "execute_result"
    }
   ],
   "source": [
    "# study of credits\n",
    "\n",
    "D1.studied_credits.value_counts()"
   ]
  },
  {
   "cell_type": "code",
   "execution_count": 16,
   "metadata": {},
   "outputs": [
    {
     "data": {
      "text/plain": [
       "BBB    7909\n",
       "FFF    7762\n",
       "DDD    6272\n",
       "CCC    4434\n",
       "EEE    2934\n",
       "GGG    2534\n",
       "AAA     748\n",
       "Name: code_module, dtype: int64"
      ]
     },
     "execution_count": 16,
     "metadata": {},
     "output_type": "execute_result"
    }
   ],
   "source": [
    "# How many module\n",
    "\n",
    "D1.code_module.value_counts()"
   ]
  },
  {
   "cell_type": "code",
   "execution_count": 17,
   "metadata": {},
   "outputs": [
    {
     "data": {
      "text/plain": [
       "N    29429\n",
       "Y     3164\n",
       "Name: disability, dtype: int64"
      ]
     },
     "execution_count": 17,
     "metadata": {},
     "output_type": "execute_result"
    }
   ],
   "source": [
    "# disability\n",
    "\n",
    "D1.disability.value_counts()"
   ]
  },
  {
   "cell_type": "code",
   "execution_count": null,
   "metadata": {},
   "outputs": [],
   "source": []
  },
  {
   "cell_type": "code",
   "execution_count": null,
   "metadata": {},
   "outputs": [],
   "source": []
  },
  {
   "cell_type": "code",
   "execution_count": null,
   "metadata": {},
   "outputs": [],
   "source": []
  }
 ],
 "metadata": {
  "kernelspec": {
   "display_name": "Python 3",
   "language": "python",
   "name": "python3"
  },
  "language_info": {
   "codemirror_mode": {
    "name": "ipython",
    "version": 3
   },
   "file_extension": ".py",
   "mimetype": "text/x-python",
   "name": "python",
   "nbconvert_exporter": "python",
   "pygments_lexer": "ipython3",
   "version": "3.6.5"
  }
 },
 "nbformat": 4,
 "nbformat_minor": 2
}
