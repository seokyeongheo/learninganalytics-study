{
 "cells": [
  {
   "cell_type": "markdown",
   "metadata": {},
   "source": [
    "# Week 1 Activity"
   ]
  },
  {
   "cell_type": "markdown",
   "metadata": {},
   "source": [
    "## Instructions"
   ]
  },
  {
   "cell_type": "markdown",
   "metadata": {},
   "source": [
    "***If you have any issues, please visit the help section of the course.***\n",
    "\n",
    "***To reset all of the outputs, use the menu to go to Cell -> All Output -> Clear***\n",
    "\n",
    "**For this assignment, make sure to start from the top and work down**"
   ]
  },
  {
   "cell_type": "markdown",
   "metadata": {},
   "source": [
    "1) First, import the studentinfo.csv dataset into R as a data frame named `D1`. To do so, click on the cell below and press Shift + Enter.\n",
    "\n",
    "You will not see any output, but you will see a number to the left in the brackets (see screenshot below). Note that if you re-run the cell, the number will change; as long as there's a number in the brackets, though, the cell has been run successfully.\n",
    "\n",
    "![Code Cell Bracket](http://www.learninganalytics.net/wp-content/uploads/2018/04/Code-Cell-Bracket.png)"
   ]
  },
  {
   "cell_type": "code",
   "execution_count": 1,
   "metadata": {},
   "outputs": [],
   "source": [
    "D1 <- read.csv(\"studentInfo.csv\", header=TRUE)"
   ]
  },
  {
   "cell_type": "markdown",
   "metadata": {},
   "source": [
    "2) Next, view the data by running the following cell. (As before, click the cell and press Shift + Enter)."
   ]
  },
  {
   "cell_type": "code",
   "execution_count": 2,
   "metadata": {},
   "outputs": [
    {
     "data": {
      "text/html": [
       "<table>\n",
       "<thead><tr><th scope=col>code_module</th><th scope=col>code_presentation</th><th scope=col>id_student</th><th scope=col>gender</th><th scope=col>region</th><th scope=col>highest_education</th><th scope=col>imd_band</th><th scope=col>age_band</th><th scope=col>num_of_prev_attempts</th><th scope=col>studied_credits</th><th scope=col>disability</th><th scope=col>final_result</th></tr></thead>\n",
       "<tbody>\n",
       "\t<tr><td>AAA                                                                </td><td>2013J                                                              </td><td> 11391                                                             </td><td>M                                                                  </td><td>East Anglian Region                                                </td><td><span style=white-space:pre-wrap>HE Qualification           </span></td><td>90-100%                                                            </td><td>55&lt;=                                                            </td><td>0                                                                  </td><td>240                                                                </td><td>N                                                                  </td><td><span style=white-space:pre-wrap>Pass     </span>                  </td></tr>\n",
       "\t<tr><td>AAA                        </td><td>2013J                      </td><td> 28400                     </td><td>F                          </td><td>Scotland                   </td><td>HE Qualification           </td><td>20-30%                     </td><td>35-55                      </td><td>0                          </td><td> 60                        </td><td>N                          </td><td>Pass                       </td></tr>\n",
       "\t<tr><td>AAA                        </td><td>2013J                      </td><td> 30268                     </td><td>F                          </td><td>North Western Region       </td><td>A Level or Equivalent      </td><td>30-40%                     </td><td>35-55                      </td><td>0                          </td><td> 60                        </td><td>Y                          </td><td>Withdrawn                  </td></tr>\n",
       "\t<tr><td>AAA                        </td><td>2013J                      </td><td> 31604                     </td><td>F                          </td><td>South East Region          </td><td>A Level or Equivalent      </td><td>50-60%                     </td><td>35-55                      </td><td>0                          </td><td> 60                        </td><td>N                          </td><td>Pass                       </td></tr>\n",
       "\t<tr><td>AAA                        </td><td>2013J                      </td><td> 32885                     </td><td>F                          </td><td>West Midlands Region       </td><td>Lower Than A Level         </td><td>50-60%                     </td><td>0-35                       </td><td>0                          </td><td> 60                        </td><td>N                          </td><td>Pass                       </td></tr>\n",
       "\t<tr><td>AAA                        </td><td>2013J                      </td><td> 38053                     </td><td>M                          </td><td>Wales                      </td><td>A Level or Equivalent      </td><td>80-90%                     </td><td>35-55                      </td><td>0                          </td><td> 60                        </td><td>N                          </td><td>Pass                       </td></tr>\n",
       "\t<tr><td>AAA                        </td><td>2013J                      </td><td> 45462                     </td><td>M                          </td><td>Scotland                   </td><td>HE Qualification           </td><td>30-40%                     </td><td>0-35                       </td><td>0                          </td><td> 60                        </td><td>N                          </td><td>Pass                       </td></tr>\n",
       "\t<tr><td>AAA                        </td><td>2013J                      </td><td> 45642                     </td><td>F                          </td><td>North Western Region       </td><td>A Level or Equivalent      </td><td>90-100%                    </td><td>0-35                       </td><td>0                          </td><td>120                        </td><td>N                          </td><td>Pass                       </td></tr>\n",
       "\t<tr><td>AAA                        </td><td>2013J                      </td><td> 52130                     </td><td>F                          </td><td>East Anglian Region        </td><td>A Level or Equivalent      </td><td>70-80%                     </td><td>0-35                       </td><td>0                          </td><td> 90                        </td><td>N                          </td><td>Pass                       </td></tr>\n",
       "\t<tr><td>AAA                                                         </td><td>2013J                                                       </td><td> 53025                                                      </td><td>M                                                           </td><td><span style=white-space:pre-wrap>North Region        </span></td><td>Post Graduate Qualification                                 </td><td><span style=white-space:pre-wrap>       </span>             </td><td>55&lt;=                                                     </td><td>0                                                           </td><td> 60                                                         </td><td>N                                                           </td><td><span style=white-space:pre-wrap>Pass     </span>           </td></tr>\n",
       "\t<tr><td>AAA                        </td><td>2013J                      </td><td> 57506                     </td><td>M                          </td><td>South Region               </td><td>Lower Than A Level         </td><td>70-80%                     </td><td>35-55                      </td><td>0                          </td><td> 60                        </td><td>N                          </td><td>Pass                       </td></tr>\n",
       "\t<tr><td>AAA                        </td><td>2013J                      </td><td> 58873                     </td><td>F                          </td><td>East Anglian Region        </td><td>A Level or Equivalent      </td><td>20-30%                     </td><td>0-35                       </td><td>0                          </td><td> 60                        </td><td>N                          </td><td>Pass                       </td></tr>\n",
       "\t<tr><td>AAA                        </td><td>2013J                      </td><td> 59185                     </td><td>M                          </td><td>East Anglian Region        </td><td>Lower Than A Level         </td><td>60-70%                     </td><td>35-55                      </td><td>0                          </td><td> 60                        </td><td>N                          </td><td>Pass                       </td></tr>\n",
       "\t<tr><td>AAA                        </td><td>2013J                      </td><td> 62155                     </td><td>F                          </td><td>North Western Region       </td><td>HE Qualification           </td><td>50-60%                     </td><td>0-35                       </td><td>0                          </td><td> 60                        </td><td>N                          </td><td>Pass                       </td></tr>\n",
       "\t<tr><td>AAA                        </td><td>2013J                      </td><td> 63400                     </td><td>M                          </td><td>Scotland                   </td><td>Lower Than A Level         </td><td>40-50%                     </td><td>35-55                      </td><td>0                          </td><td> 60                        </td><td>N                          </td><td>Pass                       </td></tr>\n",
       "\t<tr><td>AAA                        </td><td>2013J                      </td><td> 65002                     </td><td>F                          </td><td>East Anglian Region        </td><td>A Level or Equivalent      </td><td>70-80%                     </td><td>0-35                       </td><td>0                          </td><td> 60                        </td><td>N                          </td><td>Withdrawn                  </td></tr>\n",
       "\t<tr><td>AAA                        </td><td>2013J                      </td><td> 70464                     </td><td>F                          </td><td>West Midlands Region       </td><td>A Level or Equivalent      </td><td>60-70%                     </td><td>35-55                      </td><td>0                          </td><td> 60                        </td><td>N                          </td><td>Pass                       </td></tr>\n",
       "\t<tr><td>AAA                        </td><td>2013J                      </td><td> 71361                     </td><td>M                          </td><td>Ireland                    </td><td>HE Qualification           </td><td>                           </td><td>35-55                      </td><td>0                          </td><td> 60                        </td><td>N                          </td><td>Pass                       </td></tr>\n",
       "\t<tr><td>AAA                        </td><td>2013J                      </td><td> 74372                     </td><td>M                          </td><td>East Anglian Region        </td><td>A Level or Equivalent      </td><td>10-20                      </td><td>35-55                      </td><td>0                          </td><td>150                        </td><td>N                          </td><td>Fail                       </td></tr>\n",
       "\t<tr><td>AAA                        </td><td>2013J                      </td><td> 75091                     </td><td>M                          </td><td>South West Region          </td><td>A Level or Equivalent      </td><td>30-40%                     </td><td>35-55                      </td><td>0                          </td><td> 60                        </td><td>N                          </td><td>Pass                       </td></tr>\n",
       "\t<tr><td>AAA                        </td><td>2013J                      </td><td> 77367                     </td><td>M                          </td><td>East Midlands Region       </td><td>A Level or Equivalent      </td><td>30-40%                     </td><td>0-35                       </td><td>0                          </td><td> 60                        </td><td>N                          </td><td>Pass                       </td></tr>\n",
       "\t<tr><td>AAA                        </td><td>2013J                      </td><td> 91265                     </td><td>M                          </td><td>North Western Region       </td><td>HE Qualification           </td><td>0-10%                      </td><td>0-35                       </td><td>0                          </td><td> 60                        </td><td>N                          </td><td>Pass                       </td></tr>\n",
       "\t<tr><td>AAA                        </td><td>2013J                      </td><td> 94961                     </td><td>M                          </td><td>South Region               </td><td>Lower Than A Level         </td><td>70-80%                     </td><td>35-55                      </td><td>0                          </td><td> 60                        </td><td>N                          </td><td>Withdrawn                  </td></tr>\n",
       "\t<tr><td>AAA                        </td><td>2013J                      </td><td> 98094                     </td><td>M                          </td><td>Wales                      </td><td>Lower Than A Level         </td><td>70-80%                     </td><td>35-55                      </td><td>0                          </td><td> 60                        </td><td>N                          </td><td>Pass                       </td></tr>\n",
       "\t<tr><td>AAA                        </td><td>2013J                      </td><td>100893                     </td><td>M                          </td><td>Yorkshire Region           </td><td>A Level or Equivalent      </td><td>20-30%                     </td><td>0-35                       </td><td>0                          </td><td> 60                        </td><td>N                          </td><td>Pass                       </td></tr>\n",
       "\t<tr><td>AAA                        </td><td>2013J                      </td><td>101781                     </td><td>M                          </td><td>South Region               </td><td>Lower Than A Level         </td><td>80-90%                     </td><td>35-55                      </td><td>0                          </td><td> 60                        </td><td>N                          </td><td>Pass                       </td></tr>\n",
       "\t<tr><td>AAA                        </td><td>2013J                      </td><td>102806                     </td><td>M                          </td><td>North Western Region       </td><td>A Level or Equivalent      </td><td>30-40%                     </td><td>0-35                       </td><td>0                          </td><td> 60                        </td><td>N                          </td><td>Pass                       </td></tr>\n",
       "\t<tr><td>AAA                        </td><td>2013J                      </td><td>102952                     </td><td>M                          </td><td>London Region              </td><td>HE Qualification           </td><td>60-70%                     </td><td>0-35                       </td><td>0                          </td><td> 60                        </td><td>N                          </td><td>Pass                       </td></tr>\n",
       "\t<tr><td>AAA                        </td><td>2013J                      </td><td>104476                     </td><td>M                          </td><td>Ireland                    </td><td>Post Graduate Qualification</td><td>                           </td><td>35-55                      </td><td>0                          </td><td> 60                        </td><td>N                          </td><td>Pass                       </td></tr>\n",
       "\t<tr><td>AAA                        </td><td>2013J                      </td><td>106247                     </td><td>M                          </td><td>South Region               </td><td>HE Qualification           </td><td>80-90%                     </td><td>35-55                      </td><td>0                          </td><td> 60                        </td><td>N                          </td><td>Withdrawn                  </td></tr>\n",
       "\t<tr><td>⋮</td><td>⋮</td><td>⋮</td><td>⋮</td><td>⋮</td><td>⋮</td><td>⋮</td><td>⋮</td><td>⋮</td><td>⋮</td><td>⋮</td><td>⋮</td></tr>\n",
       "\t<tr><td>GGG                  </td><td>2014J                </td><td>1950911              </td><td>F                    </td><td>South West Region    </td><td>Lower Than A Level   </td><td>40-50%               </td><td>35-55                </td><td>0                    </td><td>30                   </td><td>N                    </td><td>Pass                 </td></tr>\n",
       "\t<tr><td>GGG                  </td><td>2014J                </td><td>1977701              </td><td>F                    </td><td>South Region         </td><td>Lower Than A Level   </td><td>50-60%               </td><td>35-55                </td><td>0                    </td><td>30                   </td><td>N                    </td><td>Pass                 </td></tr>\n",
       "\t<tr><td>GGG                  </td><td>2014J                </td><td>2004143              </td><td>F                    </td><td>East Anglian Region  </td><td>Lower Than A Level   </td><td>50-60%               </td><td>0-35                 </td><td>0                    </td><td>30                   </td><td>N                    </td><td>Pass                 </td></tr>\n",
       "\t<tr><td>GGG                  </td><td>2014J                </td><td>2052942              </td><td>F                    </td><td>Scotland             </td><td>Lower Than A Level   </td><td>50-60%               </td><td>35-55                </td><td>0                    </td><td>30                   </td><td>N                    </td><td>Pass                 </td></tr>\n",
       "\t<tr><td>GGG                  </td><td>2014J                </td><td>2053521              </td><td>F                    </td><td>South West Region    </td><td>A Level or Equivalent</td><td>20-30%               </td><td>35-55                </td><td>1                    </td><td>30                   </td><td>Y                    </td><td>Pass                 </td></tr>\n",
       "\t<tr><td>GGG                  </td><td>2014J                </td><td>2203216              </td><td>F                    </td><td>Wales                </td><td>A Level or Equivalent</td><td>80-90%               </td><td>35-55                </td><td>0                    </td><td>30                   </td><td>N                    </td><td>Withdrawn            </td></tr>\n",
       "\t<tr><td>GGG                  </td><td>2014J                </td><td>2214722              </td><td>F                    </td><td>Scotland             </td><td>A Level or Equivalent</td><td>70-80%               </td><td>35-55                </td><td>0                    </td><td>30                   </td><td>N                    </td><td>Withdrawn            </td></tr>\n",
       "\t<tr><td>GGG                  </td><td>2014J                </td><td>2239862              </td><td>M                    </td><td>North Western Region </td><td>Lower Than A Level   </td><td>50-60%               </td><td>35-55                </td><td>0                    </td><td>30                   </td><td>N                    </td><td>Withdrawn            </td></tr>\n",
       "\t<tr><td>GGG                  </td><td>2014J                </td><td>2268380              </td><td>F                    </td><td>Scotland             </td><td>Lower Than A Level   </td><td>20-30%               </td><td>35-55                </td><td>0                    </td><td>30                   </td><td>N                    </td><td>Pass                 </td></tr>\n",
       "\t<tr><td>GGG                  </td><td>2014J                </td><td>2270562              </td><td>F                    </td><td>South East Region    </td><td>Lower Than A Level   </td><td>60-70%               </td><td>35-55                </td><td>0                    </td><td>30                   </td><td>N                    </td><td>Distinction          </td></tr>\n",
       "\t<tr><td>GGG                  </td><td>2014J                </td><td>2271766              </td><td>F                    </td><td>London Region        </td><td>A Level or Equivalent</td><td>30-40%               </td><td>35-55                </td><td>0                    </td><td>30                   </td><td>N                    </td><td>Pass                 </td></tr>\n",
       "\t<tr><td>GGG                  </td><td>2014J                </td><td>2282141              </td><td>M                    </td><td>Wales                </td><td>A Level or Equivalent</td><td>0-10%                </td><td>35-55                </td><td>0                    </td><td>60                   </td><td>N                    </td><td>Withdrawn            </td></tr>\n",
       "\t<tr><td>GGG                  </td><td>2014J                </td><td>2311714              </td><td>F                    </td><td>London Region        </td><td>Lower Than A Level   </td><td>30-40%               </td><td>35-55                </td><td>0                    </td><td>30                   </td><td>N                    </td><td>Pass                 </td></tr>\n",
       "\t<tr><td>GGG                  </td><td>2014J                </td><td>2338614              </td><td>F                    </td><td>Scotland             </td><td>A Level or Equivalent</td><td>0-10%                </td><td>35-55                </td><td>0                    </td><td>30                   </td><td>Y                    </td><td>Withdrawn            </td></tr>\n",
       "\t<tr><td>GGG                  </td><td>2014J                </td><td>2342238              </td><td>M                    </td><td>Ireland              </td><td>HE Qualification     </td><td>80-90%               </td><td>0-35                 </td><td>0                    </td><td>30                   </td><td>N                    </td><td>Withdrawn            </td></tr>\n",
       "\t<tr><td>GGG                  </td><td>2014J                </td><td>2357806              </td><td>F                    </td><td>Ireland              </td><td>Lower Than A Level   </td><td>40-50%               </td><td>35-55                </td><td>0                    </td><td>30                   </td><td>N                    </td><td>Withdrawn            </td></tr>\n",
       "\t<tr><td>GGG                  </td><td>2014J                </td><td>2373245              </td><td>M                    </td><td>East Midlands Region </td><td>Lower Than A Level   </td><td>20-30%               </td><td>35-55                </td><td>0                    </td><td>30                   </td><td>N                    </td><td>Distinction          </td></tr>\n",
       "\t<tr><td>GGG                  </td><td>2014J                </td><td>2378591              </td><td>F                    </td><td>West Midlands Region </td><td>A Level or Equivalent</td><td>30-40%               </td><td>35-55                </td><td>1                    </td><td>30                   </td><td>N                    </td><td>Fail                 </td></tr>\n",
       "\t<tr><td>GGG                  </td><td>2014J                </td><td>2456431              </td><td>F                    </td><td>South Region         </td><td>Lower Than A Level   </td><td>70-80%               </td><td>0-35                 </td><td>0                    </td><td>30                   </td><td>Y                    </td><td>Fail                 </td></tr>\n",
       "\t<tr><td>GGG                  </td><td>2014J                </td><td>2475886              </td><td>F                    </td><td>East Anglian Region  </td><td>Lower Than A Level   </td><td>40-50%               </td><td>35-55                </td><td>0                    </td><td>90                   </td><td>N                    </td><td>Fail                 </td></tr>\n",
       "\t<tr><td>GGG                  </td><td>2014J                </td><td>2508153              </td><td>F                    </td><td>East Midlands Region </td><td>Lower Than A Level   </td><td>10-20                </td><td>0-35                 </td><td>0                    </td><td>30                   </td><td>N                    </td><td>Pass                 </td></tr>\n",
       "\t<tr><td>GGG                  </td><td>2014J                </td><td>2533195              </td><td>F                    </td><td>South East Region    </td><td>Lower Than A Level   </td><td>10-20                </td><td>0-35                 </td><td>0                    </td><td>30                   </td><td>N                    </td><td>Pass                 </td></tr>\n",
       "\t<tr><td>GGG                  </td><td>2014J                </td><td>2606765              </td><td>F                    </td><td>London Region        </td><td>Lower Than A Level   </td><td>80-90%               </td><td>0-35                 </td><td>0                    </td><td>30                   </td><td>N                    </td><td>Pass                 </td></tr>\n",
       "\t<tr><td>GGG                  </td><td>2014J                </td><td>2608143              </td><td>M                    </td><td>East Midlands Region </td><td>HE Qualification     </td><td>60-70%               </td><td>35-55                </td><td>0                    </td><td>30                   </td><td>N                    </td><td>Withdrawn            </td></tr>\n",
       "\t<tr><td>GGG                  </td><td>2014J                </td><td>2620947              </td><td>F                    </td><td>Scotland             </td><td>A Level or Equivalent</td><td>80-90%               </td><td>0-35                 </td><td>0                    </td><td>30                   </td><td>Y                    </td><td>Distinction          </td></tr>\n",
       "\t<tr><td>GGG                  </td><td>2014J                </td><td>2640965              </td><td>F                    </td><td>Wales                </td><td>Lower Than A Level   </td><td>10-20                </td><td>0-35                 </td><td>0                    </td><td>30                   </td><td>N                    </td><td>Fail                 </td></tr>\n",
       "\t<tr><td>GGG                  </td><td>2014J                </td><td>2645731              </td><td>F                    </td><td>East Anglian Region  </td><td>Lower Than A Level   </td><td>40-50%               </td><td>35-55                </td><td>0                    </td><td>30                   </td><td>N                    </td><td>Distinction          </td></tr>\n",
       "\t<tr><td>GGG                  </td><td>2014J                </td><td>2648187              </td><td>F                    </td><td>South Region         </td><td>A Level or Equivalent</td><td>20-30%               </td><td>0-35                 </td><td>0                    </td><td>30                   </td><td>Y                    </td><td>Pass                 </td></tr>\n",
       "\t<tr><td>GGG                  </td><td>2014J                </td><td>2679821              </td><td>F                    </td><td>South East Region    </td><td>Lower Than A Level   </td><td>90-100%              </td><td>35-55                </td><td>0                    </td><td>30                   </td><td>N                    </td><td>Withdrawn            </td></tr>\n",
       "\t<tr><td>GGG                  </td><td>2014J                </td><td>2684003              </td><td>F                    </td><td>Yorkshire Region     </td><td>HE Qualification     </td><td>50-60%               </td><td>35-55                </td><td>0                    </td><td>30                   </td><td>N                    </td><td>Distinction          </td></tr>\n",
       "</tbody>\n",
       "</table>\n"
      ],
      "text/latex": [
       "\\begin{tabular}{r|llllllllllll}\n",
       " code\\_module & code\\_presentation & id\\_student & gender & region & highest\\_education & imd\\_band & age\\_band & num\\_of\\_prev\\_attempts & studied\\_credits & disability & final\\_result\\\\\n",
       "\\hline\n",
       "\t AAA                         & 2013J                       &  11391                      & M                           & East Anglian Region         & HE Qualification            & 90-100\\%                   & 55<=                        & 0                           & 240                         & N                           & Pass                       \\\\\n",
       "\t AAA                         & 2013J                       &  28400                      & F                           & Scotland                    & HE Qualification            & 20-30\\%                    & 35-55                       & 0                           &  60                         & N                           & Pass                       \\\\\n",
       "\t AAA                         & 2013J                       &  30268                      & F                           & North Western Region        & A Level or Equivalent       & 30-40\\%                    & 35-55                       & 0                           &  60                         & Y                           & Withdrawn                  \\\\\n",
       "\t AAA                         & 2013J                       &  31604                      & F                           & South East Region           & A Level or Equivalent       & 50-60\\%                    & 35-55                       & 0                           &  60                         & N                           & Pass                       \\\\\n",
       "\t AAA                         & 2013J                       &  32885                      & F                           & West Midlands Region        & Lower Than A Level          & 50-60\\%                    & 0-35                        & 0                           &  60                         & N                           & Pass                       \\\\\n",
       "\t AAA                         & 2013J                       &  38053                      & M                           & Wales                       & A Level or Equivalent       & 80-90\\%                    & 35-55                       & 0                           &  60                         & N                           & Pass                       \\\\\n",
       "\t AAA                         & 2013J                       &  45462                      & M                           & Scotland                    & HE Qualification            & 30-40\\%                    & 0-35                        & 0                           &  60                         & N                           & Pass                       \\\\\n",
       "\t AAA                         & 2013J                       &  45642                      & F                           & North Western Region        & A Level or Equivalent       & 90-100\\%                   & 0-35                        & 0                           & 120                         & N                           & Pass                       \\\\\n",
       "\t AAA                         & 2013J                       &  52130                      & F                           & East Anglian Region         & A Level or Equivalent       & 70-80\\%                    & 0-35                        & 0                           &  90                         & N                           & Pass                       \\\\\n",
       "\t AAA                         & 2013J                       &  53025                      & M                           & North Region                & Post Graduate Qualification &                             & 55<=                        & 0                           &  60                         & N                           & Pass                       \\\\\n",
       "\t AAA                         & 2013J                       &  57506                      & M                           & South Region                & Lower Than A Level          & 70-80\\%                    & 35-55                       & 0                           &  60                         & N                           & Pass                       \\\\\n",
       "\t AAA                         & 2013J                       &  58873                      & F                           & East Anglian Region         & A Level or Equivalent       & 20-30\\%                    & 0-35                        & 0                           &  60                         & N                           & Pass                       \\\\\n",
       "\t AAA                         & 2013J                       &  59185                      & M                           & East Anglian Region         & Lower Than A Level          & 60-70\\%                    & 35-55                       & 0                           &  60                         & N                           & Pass                       \\\\\n",
       "\t AAA                         & 2013J                       &  62155                      & F                           & North Western Region        & HE Qualification            & 50-60\\%                    & 0-35                        & 0                           &  60                         & N                           & Pass                       \\\\\n",
       "\t AAA                         & 2013J                       &  63400                      & M                           & Scotland                    & Lower Than A Level          & 40-50\\%                    & 35-55                       & 0                           &  60                         & N                           & Pass                       \\\\\n",
       "\t AAA                         & 2013J                       &  65002                      & F                           & East Anglian Region         & A Level or Equivalent       & 70-80\\%                    & 0-35                        & 0                           &  60                         & N                           & Withdrawn                  \\\\\n",
       "\t AAA                         & 2013J                       &  70464                      & F                           & West Midlands Region        & A Level or Equivalent       & 60-70\\%                    & 35-55                       & 0                           &  60                         & N                           & Pass                       \\\\\n",
       "\t AAA                         & 2013J                       &  71361                      & M                           & Ireland                     & HE Qualification            &                             & 35-55                       & 0                           &  60                         & N                           & Pass                       \\\\\n",
       "\t AAA                         & 2013J                       &  74372                      & M                           & East Anglian Region         & A Level or Equivalent       & 10-20                       & 35-55                       & 0                           & 150                         & N                           & Fail                       \\\\\n",
       "\t AAA                         & 2013J                       &  75091                      & M                           & South West Region           & A Level or Equivalent       & 30-40\\%                    & 35-55                       & 0                           &  60                         & N                           & Pass                       \\\\\n",
       "\t AAA                         & 2013J                       &  77367                      & M                           & East Midlands Region        & A Level or Equivalent       & 30-40\\%                    & 0-35                        & 0                           &  60                         & N                           & Pass                       \\\\\n",
       "\t AAA                         & 2013J                       &  91265                      & M                           & North Western Region        & HE Qualification            & 0-10\\%                     & 0-35                        & 0                           &  60                         & N                           & Pass                       \\\\\n",
       "\t AAA                         & 2013J                       &  94961                      & M                           & South Region                & Lower Than A Level          & 70-80\\%                    & 35-55                       & 0                           &  60                         & N                           & Withdrawn                  \\\\\n",
       "\t AAA                         & 2013J                       &  98094                      & M                           & Wales                       & Lower Than A Level          & 70-80\\%                    & 35-55                       & 0                           &  60                         & N                           & Pass                       \\\\\n",
       "\t AAA                         & 2013J                       & 100893                      & M                           & Yorkshire Region            & A Level or Equivalent       & 20-30\\%                    & 0-35                        & 0                           &  60                         & N                           & Pass                       \\\\\n",
       "\t AAA                         & 2013J                       & 101781                      & M                           & South Region                & Lower Than A Level          & 80-90\\%                    & 35-55                       & 0                           &  60                         & N                           & Pass                       \\\\\n",
       "\t AAA                         & 2013J                       & 102806                      & M                           & North Western Region        & A Level or Equivalent       & 30-40\\%                    & 0-35                        & 0                           &  60                         & N                           & Pass                       \\\\\n",
       "\t AAA                         & 2013J                       & 102952                      & M                           & London Region               & HE Qualification            & 60-70\\%                    & 0-35                        & 0                           &  60                         & N                           & Pass                       \\\\\n",
       "\t AAA                         & 2013J                       & 104476                      & M                           & Ireland                     & Post Graduate Qualification &                             & 35-55                       & 0                           &  60                         & N                           & Pass                       \\\\\n",
       "\t AAA                         & 2013J                       & 106247                      & M                           & South Region                & HE Qualification            & 80-90\\%                    & 35-55                       & 0                           &  60                         & N                           & Withdrawn                  \\\\\n",
       "\t ⋮ & ⋮ & ⋮ & ⋮ & ⋮ & ⋮ & ⋮ & ⋮ & ⋮ & ⋮ & ⋮ & ⋮\\\\\n",
       "\t GGG                   & 2014J                 & 1950911               & F                     & South West Region     & Lower Than A Level    & 40-50\\%              & 35-55                 & 0                     & 30                    & N                     & Pass                 \\\\\n",
       "\t GGG                   & 2014J                 & 1977701               & F                     & South Region          & Lower Than A Level    & 50-60\\%              & 35-55                 & 0                     & 30                    & N                     & Pass                 \\\\\n",
       "\t GGG                   & 2014J                 & 2004143               & F                     & East Anglian Region   & Lower Than A Level    & 50-60\\%              & 0-35                  & 0                     & 30                    & N                     & Pass                 \\\\\n",
       "\t GGG                   & 2014J                 & 2052942               & F                     & Scotland              & Lower Than A Level    & 50-60\\%              & 35-55                 & 0                     & 30                    & N                     & Pass                 \\\\\n",
       "\t GGG                   & 2014J                 & 2053521               & F                     & South West Region     & A Level or Equivalent & 20-30\\%              & 35-55                 & 1                     & 30                    & Y                     & Pass                 \\\\\n",
       "\t GGG                   & 2014J                 & 2203216               & F                     & Wales                 & A Level or Equivalent & 80-90\\%              & 35-55                 & 0                     & 30                    & N                     & Withdrawn            \\\\\n",
       "\t GGG                   & 2014J                 & 2214722               & F                     & Scotland              & A Level or Equivalent & 70-80\\%              & 35-55                 & 0                     & 30                    & N                     & Withdrawn            \\\\\n",
       "\t GGG                   & 2014J                 & 2239862               & M                     & North Western Region  & Lower Than A Level    & 50-60\\%              & 35-55                 & 0                     & 30                    & N                     & Withdrawn            \\\\\n",
       "\t GGG                   & 2014J                 & 2268380               & F                     & Scotland              & Lower Than A Level    & 20-30\\%              & 35-55                 & 0                     & 30                    & N                     & Pass                 \\\\\n",
       "\t GGG                   & 2014J                 & 2270562               & F                     & South East Region     & Lower Than A Level    & 60-70\\%              & 35-55                 & 0                     & 30                    & N                     & Distinction          \\\\\n",
       "\t GGG                   & 2014J                 & 2271766               & F                     & London Region         & A Level or Equivalent & 30-40\\%              & 35-55                 & 0                     & 30                    & N                     & Pass                 \\\\\n",
       "\t GGG                   & 2014J                 & 2282141               & M                     & Wales                 & A Level or Equivalent & 0-10\\%               & 35-55                 & 0                     & 60                    & N                     & Withdrawn            \\\\\n",
       "\t GGG                   & 2014J                 & 2311714               & F                     & London Region         & Lower Than A Level    & 30-40\\%              & 35-55                 & 0                     & 30                    & N                     & Pass                 \\\\\n",
       "\t GGG                   & 2014J                 & 2338614               & F                     & Scotland              & A Level or Equivalent & 0-10\\%               & 35-55                 & 0                     & 30                    & Y                     & Withdrawn            \\\\\n",
       "\t GGG                   & 2014J                 & 2342238               & M                     & Ireland               & HE Qualification      & 80-90\\%              & 0-35                  & 0                     & 30                    & N                     & Withdrawn            \\\\\n",
       "\t GGG                   & 2014J                 & 2357806               & F                     & Ireland               & Lower Than A Level    & 40-50\\%              & 35-55                 & 0                     & 30                    & N                     & Withdrawn            \\\\\n",
       "\t GGG                   & 2014J                 & 2373245               & M                     & East Midlands Region  & Lower Than A Level    & 20-30\\%              & 35-55                 & 0                     & 30                    & N                     & Distinction          \\\\\n",
       "\t GGG                   & 2014J                 & 2378591               & F                     & West Midlands Region  & A Level or Equivalent & 30-40\\%              & 35-55                 & 1                     & 30                    & N                     & Fail                 \\\\\n",
       "\t GGG                   & 2014J                 & 2456431               & F                     & South Region          & Lower Than A Level    & 70-80\\%              & 0-35                  & 0                     & 30                    & Y                     & Fail                 \\\\\n",
       "\t GGG                   & 2014J                 & 2475886               & F                     & East Anglian Region   & Lower Than A Level    & 40-50\\%              & 35-55                 & 0                     & 90                    & N                     & Fail                 \\\\\n",
       "\t GGG                   & 2014J                 & 2508153               & F                     & East Midlands Region  & Lower Than A Level    & 10-20                 & 0-35                  & 0                     & 30                    & N                     & Pass                 \\\\\n",
       "\t GGG                   & 2014J                 & 2533195               & F                     & South East Region     & Lower Than A Level    & 10-20                 & 0-35                  & 0                     & 30                    & N                     & Pass                 \\\\\n",
       "\t GGG                   & 2014J                 & 2606765               & F                     & London Region         & Lower Than A Level    & 80-90\\%              & 0-35                  & 0                     & 30                    & N                     & Pass                 \\\\\n",
       "\t GGG                   & 2014J                 & 2608143               & M                     & East Midlands Region  & HE Qualification      & 60-70\\%              & 35-55                 & 0                     & 30                    & N                     & Withdrawn            \\\\\n",
       "\t GGG                   & 2014J                 & 2620947               & F                     & Scotland              & A Level or Equivalent & 80-90\\%              & 0-35                  & 0                     & 30                    & Y                     & Distinction          \\\\\n",
       "\t GGG                   & 2014J                 & 2640965               & F                     & Wales                 & Lower Than A Level    & 10-20                 & 0-35                  & 0                     & 30                    & N                     & Fail                 \\\\\n",
       "\t GGG                   & 2014J                 & 2645731               & F                     & East Anglian Region   & Lower Than A Level    & 40-50\\%              & 35-55                 & 0                     & 30                    & N                     & Distinction          \\\\\n",
       "\t GGG                   & 2014J                 & 2648187               & F                     & South Region          & A Level or Equivalent & 20-30\\%              & 0-35                  & 0                     & 30                    & Y                     & Pass                 \\\\\n",
       "\t GGG                   & 2014J                 & 2679821               & F                     & South East Region     & Lower Than A Level    & 90-100\\%             & 35-55                 & 0                     & 30                    & N                     & Withdrawn            \\\\\n",
       "\t GGG                   & 2014J                 & 2684003               & F                     & Yorkshire Region      & HE Qualification      & 50-60\\%              & 35-55                 & 0                     & 30                    & N                     & Distinction          \\\\\n",
       "\\end{tabular}\n"
      ],
      "text/markdown": [
       "\n",
       "code_module | code_presentation | id_student | gender | region | highest_education | imd_band | age_band | num_of_prev_attempts | studied_credits | disability | final_result | \n",
       "|---|---|---|---|---|---|---|---|---|---|---|---|---|---|---|---|---|---|---|---|---|---|---|---|---|---|---|---|---|---|---|---|---|---|---|---|---|---|---|---|---|---|---|---|---|---|---|---|---|---|---|---|---|---|---|---|---|---|---|---|---|\n",
       "| AAA                         | 2013J                       |  11391                      | M                           | East Anglian Region         | HE Qualification            | 90-100%                     | 55<=                        | 0                           | 240                         | N                           | Pass                        | \n",
       "| AAA                         | 2013J                       |  28400                      | F                           | Scotland                    | HE Qualification            | 20-30%                      | 35-55                       | 0                           |  60                         | N                           | Pass                        | \n",
       "| AAA                         | 2013J                       |  30268                      | F                           | North Western Region        | A Level or Equivalent       | 30-40%                      | 35-55                       | 0                           |  60                         | Y                           | Withdrawn                   | \n",
       "| AAA                         | 2013J                       |  31604                      | F                           | South East Region           | A Level or Equivalent       | 50-60%                      | 35-55                       | 0                           |  60                         | N                           | Pass                        | \n",
       "| AAA                         | 2013J                       |  32885                      | F                           | West Midlands Region        | Lower Than A Level          | 50-60%                      | 0-35                        | 0                           |  60                         | N                           | Pass                        | \n",
       "| AAA                         | 2013J                       |  38053                      | M                           | Wales                       | A Level or Equivalent       | 80-90%                      | 35-55                       | 0                           |  60                         | N                           | Pass                        | \n",
       "| AAA                         | 2013J                       |  45462                      | M                           | Scotland                    | HE Qualification            | 30-40%                      | 0-35                        | 0                           |  60                         | N                           | Pass                        | \n",
       "| AAA                         | 2013J                       |  45642                      | F                           | North Western Region        | A Level or Equivalent       | 90-100%                     | 0-35                        | 0                           | 120                         | N                           | Pass                        | \n",
       "| AAA                         | 2013J                       |  52130                      | F                           | East Anglian Region         | A Level or Equivalent       | 70-80%                      | 0-35                        | 0                           |  90                         | N                           | Pass                        | \n",
       "| AAA                         | 2013J                       |  53025                      | M                           | North Region                | Post Graduate Qualification |                             | 55<=                        | 0                           |  60                         | N                           | Pass                        | \n",
       "| AAA                         | 2013J                       |  57506                      | M                           | South Region                | Lower Than A Level          | 70-80%                      | 35-55                       | 0                           |  60                         | N                           | Pass                        | \n",
       "| AAA                         | 2013J                       |  58873                      | F                           | East Anglian Region         | A Level or Equivalent       | 20-30%                      | 0-35                        | 0                           |  60                         | N                           | Pass                        | \n",
       "| AAA                         | 2013J                       |  59185                      | M                           | East Anglian Region         | Lower Than A Level          | 60-70%                      | 35-55                       | 0                           |  60                         | N                           | Pass                        | \n",
       "| AAA                         | 2013J                       |  62155                      | F                           | North Western Region        | HE Qualification            | 50-60%                      | 0-35                        | 0                           |  60                         | N                           | Pass                        | \n",
       "| AAA                         | 2013J                       |  63400                      | M                           | Scotland                    | Lower Than A Level          | 40-50%                      | 35-55                       | 0                           |  60                         | N                           | Pass                        | \n",
       "| AAA                         | 2013J                       |  65002                      | F                           | East Anglian Region         | A Level or Equivalent       | 70-80%                      | 0-35                        | 0                           |  60                         | N                           | Withdrawn                   | \n",
       "| AAA                         | 2013J                       |  70464                      | F                           | West Midlands Region        | A Level or Equivalent       | 60-70%                      | 35-55                       | 0                           |  60                         | N                           | Pass                        | \n",
       "| AAA                         | 2013J                       |  71361                      | M                           | Ireland                     | HE Qualification            |                             | 35-55                       | 0                           |  60                         | N                           | Pass                        | \n",
       "| AAA                         | 2013J                       |  74372                      | M                           | East Anglian Region         | A Level or Equivalent       | 10-20                       | 35-55                       | 0                           | 150                         | N                           | Fail                        | \n",
       "| AAA                         | 2013J                       |  75091                      | M                           | South West Region           | A Level or Equivalent       | 30-40%                      | 35-55                       | 0                           |  60                         | N                           | Pass                        | \n",
       "| AAA                         | 2013J                       |  77367                      | M                           | East Midlands Region        | A Level or Equivalent       | 30-40%                      | 0-35                        | 0                           |  60                         | N                           | Pass                        | \n",
       "| AAA                         | 2013J                       |  91265                      | M                           | North Western Region        | HE Qualification            | 0-10%                       | 0-35                        | 0                           |  60                         | N                           | Pass                        | \n",
       "| AAA                         | 2013J                       |  94961                      | M                           | South Region                | Lower Than A Level          | 70-80%                      | 35-55                       | 0                           |  60                         | N                           | Withdrawn                   | \n",
       "| AAA                         | 2013J                       |  98094                      | M                           | Wales                       | Lower Than A Level          | 70-80%                      | 35-55                       | 0                           |  60                         | N                           | Pass                        | \n",
       "| AAA                         | 2013J                       | 100893                      | M                           | Yorkshire Region            | A Level or Equivalent       | 20-30%                      | 0-35                        | 0                           |  60                         | N                           | Pass                        | \n",
       "| AAA                         | 2013J                       | 101781                      | M                           | South Region                | Lower Than A Level          | 80-90%                      | 35-55                       | 0                           |  60                         | N                           | Pass                        | \n",
       "| AAA                         | 2013J                       | 102806                      | M                           | North Western Region        | A Level or Equivalent       | 30-40%                      | 0-35                        | 0                           |  60                         | N                           | Pass                        | \n",
       "| AAA                         | 2013J                       | 102952                      | M                           | London Region               | HE Qualification            | 60-70%                      | 0-35                        | 0                           |  60                         | N                           | Pass                        | \n",
       "| AAA                         | 2013J                       | 104476                      | M                           | Ireland                     | Post Graduate Qualification |                             | 35-55                       | 0                           |  60                         | N                           | Pass                        | \n",
       "| AAA                         | 2013J                       | 106247                      | M                           | South Region                | HE Qualification            | 80-90%                      | 35-55                       | 0                           |  60                         | N                           | Withdrawn                   | \n",
       "| ⋮ | ⋮ | ⋮ | ⋮ | ⋮ | ⋮ | ⋮ | ⋮ | ⋮ | ⋮ | ⋮ | ⋮ | \n",
       "| GGG                   | 2014J                 | 1950911               | F                     | South West Region     | Lower Than A Level    | 40-50%                | 35-55                 | 0                     | 30                    | N                     | Pass                  | \n",
       "| GGG                   | 2014J                 | 1977701               | F                     | South Region          | Lower Than A Level    | 50-60%                | 35-55                 | 0                     | 30                    | N                     | Pass                  | \n",
       "| GGG                   | 2014J                 | 2004143               | F                     | East Anglian Region   | Lower Than A Level    | 50-60%                | 0-35                  | 0                     | 30                    | N                     | Pass                  | \n",
       "| GGG                   | 2014J                 | 2052942               | F                     | Scotland              | Lower Than A Level    | 50-60%                | 35-55                 | 0                     | 30                    | N                     | Pass                  | \n",
       "| GGG                   | 2014J                 | 2053521               | F                     | South West Region     | A Level or Equivalent | 20-30%                | 35-55                 | 1                     | 30                    | Y                     | Pass                  | \n",
       "| GGG                   | 2014J                 | 2203216               | F                     | Wales                 | A Level or Equivalent | 80-90%                | 35-55                 | 0                     | 30                    | N                     | Withdrawn             | \n",
       "| GGG                   | 2014J                 | 2214722               | F                     | Scotland              | A Level or Equivalent | 70-80%                | 35-55                 | 0                     | 30                    | N                     | Withdrawn             | \n",
       "| GGG                   | 2014J                 | 2239862               | M                     | North Western Region  | Lower Than A Level    | 50-60%                | 35-55                 | 0                     | 30                    | N                     | Withdrawn             | \n",
       "| GGG                   | 2014J                 | 2268380               | F                     | Scotland              | Lower Than A Level    | 20-30%                | 35-55                 | 0                     | 30                    | N                     | Pass                  | \n",
       "| GGG                   | 2014J                 | 2270562               | F                     | South East Region     | Lower Than A Level    | 60-70%                | 35-55                 | 0                     | 30                    | N                     | Distinction           | \n",
       "| GGG                   | 2014J                 | 2271766               | F                     | London Region         | A Level or Equivalent | 30-40%                | 35-55                 | 0                     | 30                    | N                     | Pass                  | \n",
       "| GGG                   | 2014J                 | 2282141               | M                     | Wales                 | A Level or Equivalent | 0-10%                 | 35-55                 | 0                     | 60                    | N                     | Withdrawn             | \n",
       "| GGG                   | 2014J                 | 2311714               | F                     | London Region         | Lower Than A Level    | 30-40%                | 35-55                 | 0                     | 30                    | N                     | Pass                  | \n",
       "| GGG                   | 2014J                 | 2338614               | F                     | Scotland              | A Level or Equivalent | 0-10%                 | 35-55                 | 0                     | 30                    | Y                     | Withdrawn             | \n",
       "| GGG                   | 2014J                 | 2342238               | M                     | Ireland               | HE Qualification      | 80-90%                | 0-35                  | 0                     | 30                    | N                     | Withdrawn             | \n",
       "| GGG                   | 2014J                 | 2357806               | F                     | Ireland               | Lower Than A Level    | 40-50%                | 35-55                 | 0                     | 30                    | N                     | Withdrawn             | \n",
       "| GGG                   | 2014J                 | 2373245               | M                     | East Midlands Region  | Lower Than A Level    | 20-30%                | 35-55                 | 0                     | 30                    | N                     | Distinction           | \n",
       "| GGG                   | 2014J                 | 2378591               | F                     | West Midlands Region  | A Level or Equivalent | 30-40%                | 35-55                 | 1                     | 30                    | N                     | Fail                  | \n",
       "| GGG                   | 2014J                 | 2456431               | F                     | South Region          | Lower Than A Level    | 70-80%                | 0-35                  | 0                     | 30                    | Y                     | Fail                  | \n",
       "| GGG                   | 2014J                 | 2475886               | F                     | East Anglian Region   | Lower Than A Level    | 40-50%                | 35-55                 | 0                     | 90                    | N                     | Fail                  | \n",
       "| GGG                   | 2014J                 | 2508153               | F                     | East Midlands Region  | Lower Than A Level    | 10-20                 | 0-35                  | 0                     | 30                    | N                     | Pass                  | \n",
       "| GGG                   | 2014J                 | 2533195               | F                     | South East Region     | Lower Than A Level    | 10-20                 | 0-35                  | 0                     | 30                    | N                     | Pass                  | \n",
       "| GGG                   | 2014J                 | 2606765               | F                     | London Region         | Lower Than A Level    | 80-90%                | 0-35                  | 0                     | 30                    | N                     | Pass                  | \n",
       "| GGG                   | 2014J                 | 2608143               | M                     | East Midlands Region  | HE Qualification      | 60-70%                | 35-55                 | 0                     | 30                    | N                     | Withdrawn             | \n",
       "| GGG                   | 2014J                 | 2620947               | F                     | Scotland              | A Level or Equivalent | 80-90%                | 0-35                  | 0                     | 30                    | Y                     | Distinction           | \n",
       "| GGG                   | 2014J                 | 2640965               | F                     | Wales                 | Lower Than A Level    | 10-20                 | 0-35                  | 0                     | 30                    | N                     | Fail                  | \n",
       "| GGG                   | 2014J                 | 2645731               | F                     | East Anglian Region   | Lower Than A Level    | 40-50%                | 35-55                 | 0                     | 30                    | N                     | Distinction           | \n",
       "| GGG                   | 2014J                 | 2648187               | F                     | South Region          | A Level or Equivalent | 20-30%                | 0-35                  | 0                     | 30                    | Y                     | Pass                  | \n",
       "| GGG                   | 2014J                 | 2679821               | F                     | South East Region     | Lower Than A Level    | 90-100%               | 35-55                 | 0                     | 30                    | N                     | Withdrawn             | \n",
       "| GGG                   | 2014J                 | 2684003               | F                     | Yorkshire Region      | HE Qualification      | 50-60%                | 35-55                 | 0                     | 30                    | N                     | Distinction           | \n",
       "\n",
       "\n"
      ],
      "text/plain": [
       "      code_module code_presentation id_student gender region              \n",
       "1     AAA         2013J              11391     M      East Anglian Region \n",
       "2     AAA         2013J              28400     F      Scotland            \n",
       "3     AAA         2013J              30268     F      North Western Region\n",
       "4     AAA         2013J              31604     F      South East Region   \n",
       "5     AAA         2013J              32885     F      West Midlands Region\n",
       "6     AAA         2013J              38053     M      Wales               \n",
       "7     AAA         2013J              45462     M      Scotland            \n",
       "8     AAA         2013J              45642     F      North Western Region\n",
       "9     AAA         2013J              52130     F      East Anglian Region \n",
       "10    AAA         2013J              53025     M      North Region        \n",
       "11    AAA         2013J              57506     M      South Region        \n",
       "12    AAA         2013J              58873     F      East Anglian Region \n",
       "13    AAA         2013J              59185     M      East Anglian Region \n",
       "14    AAA         2013J              62155     F      North Western Region\n",
       "15    AAA         2013J              63400     M      Scotland            \n",
       "16    AAA         2013J              65002     F      East Anglian Region \n",
       "17    AAA         2013J              70464     F      West Midlands Region\n",
       "18    AAA         2013J              71361     M      Ireland             \n",
       "19    AAA         2013J              74372     M      East Anglian Region \n",
       "20    AAA         2013J              75091     M      South West Region   \n",
       "21    AAA         2013J              77367     M      East Midlands Region\n",
       "22    AAA         2013J              91265     M      North Western Region\n",
       "23    AAA         2013J              94961     M      South Region        \n",
       "24    AAA         2013J              98094     M      Wales               \n",
       "25    AAA         2013J             100893     M      Yorkshire Region    \n",
       "26    AAA         2013J             101781     M      South Region        \n",
       "27    AAA         2013J             102806     M      North Western Region\n",
       "28    AAA         2013J             102952     M      London Region       \n",
       "29    AAA         2013J             104476     M      Ireland             \n",
       "30    AAA         2013J             106247     M      South Region        \n",
       "⋮     ⋮           ⋮                 ⋮          ⋮      ⋮                   \n",
       "32564 GGG         2014J             1950911    F      South West Region   \n",
       "32565 GGG         2014J             1977701    F      South Region        \n",
       "32566 GGG         2014J             2004143    F      East Anglian Region \n",
       "32567 GGG         2014J             2052942    F      Scotland            \n",
       "32568 GGG         2014J             2053521    F      South West Region   \n",
       "32569 GGG         2014J             2203216    F      Wales               \n",
       "32570 GGG         2014J             2214722    F      Scotland            \n",
       "32571 GGG         2014J             2239862    M      North Western Region\n",
       "32572 GGG         2014J             2268380    F      Scotland            \n",
       "32573 GGG         2014J             2270562    F      South East Region   \n",
       "32574 GGG         2014J             2271766    F      London Region       \n",
       "32575 GGG         2014J             2282141    M      Wales               \n",
       "32576 GGG         2014J             2311714    F      London Region       \n",
       "32577 GGG         2014J             2338614    F      Scotland            \n",
       "32578 GGG         2014J             2342238    M      Ireland             \n",
       "32579 GGG         2014J             2357806    F      Ireland             \n",
       "32580 GGG         2014J             2373245    M      East Midlands Region\n",
       "32581 GGG         2014J             2378591    F      West Midlands Region\n",
       "32582 GGG         2014J             2456431    F      South Region        \n",
       "32583 GGG         2014J             2475886    F      East Anglian Region \n",
       "32584 GGG         2014J             2508153    F      East Midlands Region\n",
       "32585 GGG         2014J             2533195    F      South East Region   \n",
       "32586 GGG         2014J             2606765    F      London Region       \n",
       "32587 GGG         2014J             2608143    M      East Midlands Region\n",
       "32588 GGG         2014J             2620947    F      Scotland            \n",
       "32589 GGG         2014J             2640965    F      Wales               \n",
       "32590 GGG         2014J             2645731    F      East Anglian Region \n",
       "32591 GGG         2014J             2648187    F      South Region        \n",
       "32592 GGG         2014J             2679821    F      South East Region   \n",
       "32593 GGG         2014J             2684003    F      Yorkshire Region    \n",
       "      highest_education           imd_band age_band num_of_prev_attempts\n",
       "1     HE Qualification            90-100%  55<=     0                   \n",
       "2     HE Qualification            20-30%   35-55    0                   \n",
       "3     A Level or Equivalent       30-40%   35-55    0                   \n",
       "4     A Level or Equivalent       50-60%   35-55    0                   \n",
       "5     Lower Than A Level          50-60%   0-35     0                   \n",
       "6     A Level or Equivalent       80-90%   35-55    0                   \n",
       "7     HE Qualification            30-40%   0-35     0                   \n",
       "8     A Level or Equivalent       90-100%  0-35     0                   \n",
       "9     A Level or Equivalent       70-80%   0-35     0                   \n",
       "10    Post Graduate Qualification          55<=     0                   \n",
       "11    Lower Than A Level          70-80%   35-55    0                   \n",
       "12    A Level or Equivalent       20-30%   0-35     0                   \n",
       "13    Lower Than A Level          60-70%   35-55    0                   \n",
       "14    HE Qualification            50-60%   0-35     0                   \n",
       "15    Lower Than A Level          40-50%   35-55    0                   \n",
       "16    A Level or Equivalent       70-80%   0-35     0                   \n",
       "17    A Level or Equivalent       60-70%   35-55    0                   \n",
       "18    HE Qualification                     35-55    0                   \n",
       "19    A Level or Equivalent       10-20    35-55    0                   \n",
       "20    A Level or Equivalent       30-40%   35-55    0                   \n",
       "21    A Level or Equivalent       30-40%   0-35     0                   \n",
       "22    HE Qualification            0-10%    0-35     0                   \n",
       "23    Lower Than A Level          70-80%   35-55    0                   \n",
       "24    Lower Than A Level          70-80%   35-55    0                   \n",
       "25    A Level or Equivalent       20-30%   0-35     0                   \n",
       "26    Lower Than A Level          80-90%   35-55    0                   \n",
       "27    A Level or Equivalent       30-40%   0-35     0                   \n",
       "28    HE Qualification            60-70%   0-35     0                   \n",
       "29    Post Graduate Qualification          35-55    0                   \n",
       "30    HE Qualification            80-90%   35-55    0                   \n",
       "⋮     ⋮                           ⋮        ⋮        ⋮                   \n",
       "32564 Lower Than A Level          40-50%   35-55    0                   \n",
       "32565 Lower Than A Level          50-60%   35-55    0                   \n",
       "32566 Lower Than A Level          50-60%   0-35     0                   \n",
       "32567 Lower Than A Level          50-60%   35-55    0                   \n",
       "32568 A Level or Equivalent       20-30%   35-55    1                   \n",
       "32569 A Level or Equivalent       80-90%   35-55    0                   \n",
       "32570 A Level or Equivalent       70-80%   35-55    0                   \n",
       "32571 Lower Than A Level          50-60%   35-55    0                   \n",
       "32572 Lower Than A Level          20-30%   35-55    0                   \n",
       "32573 Lower Than A Level          60-70%   35-55    0                   \n",
       "32574 A Level or Equivalent       30-40%   35-55    0                   \n",
       "32575 A Level or Equivalent       0-10%    35-55    0                   \n",
       "32576 Lower Than A Level          30-40%   35-55    0                   \n",
       "32577 A Level or Equivalent       0-10%    35-55    0                   \n",
       "32578 HE Qualification            80-90%   0-35     0                   \n",
       "32579 Lower Than A Level          40-50%   35-55    0                   \n",
       "32580 Lower Than A Level          20-30%   35-55    0                   \n",
       "32581 A Level or Equivalent       30-40%   35-55    1                   \n",
       "32582 Lower Than A Level          70-80%   0-35     0                   \n",
       "32583 Lower Than A Level          40-50%   35-55    0                   \n",
       "32584 Lower Than A Level          10-20    0-35     0                   \n",
       "32585 Lower Than A Level          10-20    0-35     0                   \n",
       "32586 Lower Than A Level          80-90%   0-35     0                   \n",
       "32587 HE Qualification            60-70%   35-55    0                   \n",
       "32588 A Level or Equivalent       80-90%   0-35     0                   \n",
       "32589 Lower Than A Level          10-20    0-35     0                   \n",
       "32590 Lower Than A Level          40-50%   35-55    0                   \n",
       "32591 A Level or Equivalent       20-30%   0-35     0                   \n",
       "32592 Lower Than A Level          90-100%  35-55    0                   \n",
       "32593 HE Qualification            50-60%   35-55    0                   \n",
       "      studied_credits disability final_result\n",
       "1     240             N          Pass        \n",
       "2      60             N          Pass        \n",
       "3      60             Y          Withdrawn   \n",
       "4      60             N          Pass        \n",
       "5      60             N          Pass        \n",
       "6      60             N          Pass        \n",
       "7      60             N          Pass        \n",
       "8     120             N          Pass        \n",
       "9      90             N          Pass        \n",
       "10     60             N          Pass        \n",
       "11     60             N          Pass        \n",
       "12     60             N          Pass        \n",
       "13     60             N          Pass        \n",
       "14     60             N          Pass        \n",
       "15     60             N          Pass        \n",
       "16     60             N          Withdrawn   \n",
       "17     60             N          Pass        \n",
       "18     60             N          Pass        \n",
       "19    150             N          Fail        \n",
       "20     60             N          Pass        \n",
       "21     60             N          Pass        \n",
       "22     60             N          Pass        \n",
       "23     60             N          Withdrawn   \n",
       "24     60             N          Pass        \n",
       "25     60             N          Pass        \n",
       "26     60             N          Pass        \n",
       "27     60             N          Pass        \n",
       "28     60             N          Pass        \n",
       "29     60             N          Pass        \n",
       "30     60             N          Withdrawn   \n",
       "⋮     ⋮               ⋮          ⋮           \n",
       "32564 30              N          Pass        \n",
       "32565 30              N          Pass        \n",
       "32566 30              N          Pass        \n",
       "32567 30              N          Pass        \n",
       "32568 30              Y          Pass        \n",
       "32569 30              N          Withdrawn   \n",
       "32570 30              N          Withdrawn   \n",
       "32571 30              N          Withdrawn   \n",
       "32572 30              N          Pass        \n",
       "32573 30              N          Distinction \n",
       "32574 30              N          Pass        \n",
       "32575 60              N          Withdrawn   \n",
       "32576 30              N          Pass        \n",
       "32577 30              Y          Withdrawn   \n",
       "32578 30              N          Withdrawn   \n",
       "32579 30              N          Withdrawn   \n",
       "32580 30              N          Distinction \n",
       "32581 30              N          Fail        \n",
       "32582 30              Y          Fail        \n",
       "32583 90              N          Fail        \n",
       "32584 30              N          Pass        \n",
       "32585 30              N          Pass        \n",
       "32586 30              N          Pass        \n",
       "32587 30              N          Withdrawn   \n",
       "32588 30              Y          Distinction \n",
       "32589 30              N          Fail        \n",
       "32590 30              N          Distinction \n",
       "32591 30              Y          Pass        \n",
       "32592 30              N          Withdrawn   \n",
       "32593 30              N          Distinction "
      ]
     },
     "metadata": {},
     "output_type": "display_data"
    }
   ],
   "source": [
    "D1"
   ]
  },
  {
   "cell_type": "markdown",
   "metadata": {},
   "source": [
    "3) What does the `code_presentation` variable (column) represent?\n",
    "\n",
    "It represents the code name of the presentation. It consists of the year and “B” for the presentation starting in February and “J” for the presentation starting in October. "
   ]
  },
  {
   "cell_type": "markdown",
   "metadata": {},
   "source": [
    "4) There are a lot of rows in this dataset, and Jupyter does not display them all. When you scroll through the output above, what do you think indicates that some rows aren't being shown? (Hint: look for a different-looking row about halfway through the output)"
   ]
  },
  {
   "cell_type": "markdown",
   "metadata": {},
   "source": [
    "5) How many people from Wales enrolled in the presentation starting in October in 2014? When you run the next cell, you will see a red background with some output starting with \"Attaching package: 'dplyr'\" (see screenshot below). You can ignore this. The answer to the question will be at the bottom of the output.\n",
    "\n",
    "![Red Text](http://www.learninganalytics.net/wp-content/uploads/2018/04/Red-Text.png)"
   ]
  },
  {
   "cell_type": "code",
   "execution_count": 4,
   "metadata": {},
   "outputs": [
    {
     "name": "stderr",
     "output_type": "stream",
     "text": [
      "also installing the dependencies ‘fansi’, ‘utf8’, ‘bindr’, ‘pillar’, ‘purrr’, ‘bindrcpp’, ‘pkgconfig’, ‘tibble’, ‘tidyselect’, ‘BH’, ‘plogr’\n",
      "\n"
     ]
    },
    {
     "name": "stdout",
     "output_type": "stream",
     "text": [
      "\n",
      "  There is a binary version available but the source version is later:\n",
      "      binary source needs_compilation\n",
      "fansi  0.3.0  0.4.0              TRUE\n",
      "\n",
      "\n",
      "The downloaded binary packages are in\n",
      "\t/var/folders/tm/1kr0wc354j546zqfy1_w0qrc0000gn/T//RtmpVIdfKD/downloaded_packages\n"
     ]
    },
    {
     "name": "stderr",
     "output_type": "stream",
     "text": [
      "installing the source package ‘fansi’\n",
      "\n"
     ]
    }
   ],
   "source": [
    "install.packages(\"dplyr\")"
   ]
  },
  {
   "cell_type": "code",
   "execution_count": 7,
   "metadata": {},
   "outputs": [
    {
     "data": {
      "text/html": [
       "576"
      ],
      "text/latex": [
       "576"
      ],
      "text/markdown": [
       "576"
      ],
      "text/plain": [
       "[1] 576"
      ]
     },
     "metadata": {},
     "output_type": "display_data"
    }
   ],
   "source": [
    "library(dplyr)\n",
    "D1b <- filter(D1, code_presentation == \"2013J\", region == \"Wales\")\n",
    "nrow(D1b)"
   ]
  },
  {
   "cell_type": "markdown",
   "metadata": {},
   "source": [
    "6) How many people enrolled from Scotland and had between 60 and 100 credits?"
   ]
  },
  {
   "cell_type": "code",
   "execution_count": 8,
   "metadata": {},
   "outputs": [
    {
     "data": {
      "text/html": [
       "2379"
      ],
      "text/latex": [
       "2379"
      ],
      "text/markdown": [
       "2379"
      ],
      "text/plain": [
       "[1] 2379"
      ]
     },
     "metadata": {},
     "output_type": "display_data"
    }
   ],
   "source": [
    "COL <- filter(D1, region == \"Scotland\", studied_credits >= 60, studied_credits <= 100)\n",
    "nrow(COL)"
   ]
  },
  {
   "cell_type": "markdown",
   "metadata": {},
   "source": [
    "7) Go back to edX and enter the answers to (5) and (6). You are now done for this part of the assignment in Week 1."
   ]
  }
 ],
 "metadata": {
  "kernelspec": {
   "display_name": "R",
   "language": "R",
   "name": "ir"
  },
  "language_info": {
   "codemirror_mode": "r",
   "file_extension": ".r",
   "mimetype": "text/x-r-source",
   "name": "R",
   "pygments_lexer": "r",
   "version": "3.5.1"
  }
 },
 "nbformat": 4,
 "nbformat_minor": 2
}
